{
 "cells": [
  {
   "cell_type": "markdown",
   "metadata": {},
   "source": [
    "# Send Emails with Data from Excel\n",
    "\n",
    "The purpose of this example is to demonstrate how to send HTML emails which include data from an Excel worksheet. Sending the email as an HTML email allows for data to be included in the body of the email in an HTML table."
   ]
  },
  {
   "cell_type": "markdown",
   "metadata": {},
   "source": [
    "## Import needed modules"
   ]
  },
  {
   "cell_type": "code",
   "execution_count": null,
   "metadata": {},
   "outputs": [],
   "source": [
    "# This module may need to be installed before it can be used.\n",
    "# https://dev.to/siddheshshankar/convert-a-dataframe-into-a-pretty-html-table-and-send-it-over-email-4663\n",
    "# !pip install pretty-html-table"
   ]
  },
  {
   "cell_type": "code",
   "execution_count": 46,
   "metadata": {},
   "outputs": [],
   "source": [
    "import smtplib\n",
    "from email.message import EmailMessage\n",
    "from email.mime.text import MIMEText\n",
    "from email.mime.multipart import MIMEMultipart\n",
    "import pandas as pd\n",
    "from pretty_html_table import build_table"
   ]
  },
  {
   "cell_type": "markdown",
   "metadata": {},
   "source": [
    "## Some setup needed\n",
    "\n",
    "There are some settings which need to be made depending on what mail server you're going to use. The location where I first developed this solution had an SMTP server available, so the setting in this example are fairly simple. Other mail solutions may require additional configuration."
   ]
  },
  {
   "cell_type": "code",
   "execution_count": 13,
   "metadata": {},
   "outputs": [],
   "source": [
    "email_host = 'smtp.xx.xx.com' # This is an example. You'll need to find the correct address for the email host you'll use.\n",
    "port = 25 # This is a common setting for an smtp server.\n"
   ]
  },
  {
   "cell_type": "markdown",
   "metadata": {},
   "source": [
    "## Main function to send mail"
   ]
  },
  {
   "cell_type": "code",
   "execution_count": null,
   "metadata": {},
   "outputs": [],
   "source": [
    "def send_message2(fromadd, to, cc, bcc, subject, salutation, body, signature, note=None, table=None):\n",
    "    message_text = '<p>' + salutation + '</p>\\n<p>' + body\n",
    "    if note:\n",
    "        message_text += '</p>\\n<p>' + note\n",
    "    if table:\n",
    "        message_text += '</p>\\n<p>' + table\n",
    "    message_text += '</p>\\n<p>' + signature + '</p>'\n",
    "    msg = MIMEMultipart()\n",
    "    msg['From'] = fromadd\n",
    "    msg['To'] = to\n",
    "    mail_add = msg['To']\n",
    "    if cc:\n",
    "        msg['Cc'] = cc\n",
    "        mail_add += ',' + cc\n",
    "    if bcc:\n",
    "        msg['Bcc'] = bcc\n",
    "        mail_add += ',' + bcc\n",
    "    msg['Subject'] = subject\n",
    "    msg.attach(MIMEText(message_text, 'html'))\n",
    "    \n",
    "    mail_list = mail_add.split(',')\n",
    "    with smtplib.SMTP(host=email_host, port=port) as smtp:\n",
    "        smtp.sendmail(msg['From'], mail_list, msg.as_string())\n",
    "        \n"
   ]
  },
  {
   "cell_type": "markdown",
   "metadata": {},
   "source": [
    "## Open the Excel file with all the needed information into a Pandas dataframe\n",
    "\n",
    "I also filter the rows in the dataframe which I have marked with a status of \"ready\" so I only send emails I intend to send right now, but keep older rows for reference."
   ]
  },
  {
   "cell_type": "code",
   "execution_count": null,
   "metadata": {},
   "outputs": [],
   "source": [
    "path = \"IntakeList.xlsx\"\n",
    "df = pd.read_excel(path, sheet_name=\"emails\", dtype=object)\n",
    "df = df.fillna('')\n",
    "df = df[(df['status'] == 'ready')]"
   ]
  },
  {
   "cell_type": "markdown",
   "metadata": {},
   "source": [
    "## Apply the send_message2 function to each row of the dataframe.\n",
    "\n",
    "This generates an email from each row in the dataframe and sends it using the SMTP server."
   ]
  },
  {
   "cell_type": "code",
   "execution_count": 1,
   "metadata": {},
   "outputs": [
    {
     "name": "stdout",
     "output_type": "stream",
     "text": [
      "Done.\n"
     ]
    }
   ],
   "source": [
    "\n",
    "df.apply(lambda row : send_message2(row['from'], row['to'], row['cc'], row['bcc'], row['subject'], row['salutation'], row['body'], row['signature'], build_table(pd.DataFrame({'Notes':[row['Notes']]}), 'blue_light', font_size='small', width='800px'), build_table(pd.DataFrame({k:[row[k]] for k in res}), 'blue_light', font_size='small')), axis = 1)\n",
    "\n",
    "print('Done.')"
   ]
  }
 ],
 "metadata": {
  "kernelspec": {
   "display_name": "Python 3",
   "language": "python",
   "name": "python3"
  },
  "language_info": {
   "codemirror_mode": {
    "name": "ipython",
    "version": 3
   },
   "file_extension": ".py",
   "mimetype": "text/x-python",
   "name": "python",
   "nbconvert_exporter": "python",
   "pygments_lexer": "ipython3",
   "version": "3.8.5"
  }
 },
 "nbformat": 4,
 "nbformat_minor": 4
}
